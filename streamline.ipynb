{
 "cells": [
  {
   "cell_type": "markdown",
   "metadata": {},
   "source": [
    "# Particle trajectories in ocean current animated gif tutorial\n",
    "This brief tutorial shows how to recreate the [animated gif](http://oceanparcels.org/animated-gifs/globcurrent_fullyseeded.gif) showing particles in the Agulhas region south of Africa.  The first half of this demo is based on the work of [Delandmeter and Van Sebille (2019)](https://www.geosci-model-dev.net/12/3571/2019/gmd-12-3571-2019.html) and [Ocean Parcels](https://oceanparcels.org/) and copied from this [Ocean Parcels example](https://github.com/OceanParcels/parcels/blob/master/parcels/examples/tutorial_Agulhasparticles.ipynb).  The second half of this notebook parallelizes this process with the [Parsl parallel Python scripting package](https://parsl-project.org)."
   ]
  },
  {
   "cell_type": "markdown",
   "metadata": {},
   "source": [
    "## Local calculations"
   ]
  },
  {
   "cell_type": "code",
   "execution_count": null,
   "metadata": {},
   "outputs": [],
   "source": [
    "from parcels import FieldSet, ParticleSet, JITParticle, AdvectionRK4, ErrorCode\n",
    "from datetime import timedelta\n",
    "import numpy as np\n",
    "\n",
    "#=====================================\n",
    "# Load data\n",
    "#=====================================\n",
    "filenames = \"/pw/workflows/ocean_parcels_demo/parcels_examples/GlobCurrent_example_data/20*.nc\"\n",
    "variables = {'U': 'eastward_eulerian_current_velocity',\n",
    "             'V': 'northward_eulerian_current_velocity'}\n",
    "dimensions = {'lat': 'lat',\n",
    "              'lon': 'lon',\n",
    "              'time': 'time'}\n",
    "fieldset = FieldSet.from_netcdf(filenames, variables, dimensions)\n",
    "\n",
    "#=====================================\n",
    "# Define a lon, lat grid\n",
    "#=====================================\n",
    "lons, lats = np.meshgrid(range(15, 35), range(-40, -30))\n",
    "pset = ParticleSet(fieldset=fieldset, pclass=JITParticle, lon=lons, lat=lats)\n",
    "\n",
    "#=====================================\n",
    "# Define particle boundary conditions\n",
    "#=====================================\n",
    "def DeleteParticle(particle, fieldset, time):\n",
    "    particle.delete()\n",
    "\n",
    "#=====================================\n",
    "# Calculate particle positions\n",
    "#=====================================\n",
    "for cnt in range(3):\n",
    "    # Set filename for output plot\n",
    "    output_image = 'particles'+str(cnt).zfill(2)\n",
    "    print(output_image)\n",
    "    \n",
    "    # First plot the particles\n",
    "    pset.show(savefile=output_image, field='vector', land=True, vmax=2.0)\n",
    "\n",
    "    # Then advect the particles for 6 hours\n",
    "    pset.execute(AdvectionRK4,\n",
    "                 runtime=timedelta(hours=6),  # runtime controls the interval of the plots\n",
    "                 dt=timedelta(minutes=5),\n",
    "                 recovery={ErrorCode.ErrorOutOfBounds: DeleteParticle})  # the recovery kernel"
   ]
  },
  {
   "cell_type": "markdown",
   "metadata": {},
   "source": [
    "# Execution in parallel on remote, custom workers\n",
    "\n",
    "+ Run OceanParcels in separate experiments at the same time.\n",
    "+ Each experiment is defined by a Python/OceanParsels script.\n",
    "+ One experiment per (customizable) worker node.\n",
    "+ Each instance of OceanParcels is run via a Docker container.\n",
    "\n",
    "This calculation is launched right here from the notebook. Please ensure that a compute resource is turned on first and `pw.conf` is present in the directory that this notebook is running from."
   ]
  },
  {
   "cell_type": "code",
   "execution_count": null,
   "metadata": {},
   "outputs": [],
   "source": [
    "import parsl\n",
    "from parsl.app.app import python_app, bash_app\n",
    "from parsl.data_provider.files import File\n",
    "from path import Path\n",
    "from parsl.configs.local_threads import config\n",
    "from parslpw import pwconfig,pwargs\n",
    "parsl.load(pwconfig)\n",
    "\n",
    "print(\"pwconfig loaded\")"
   ]
  },
  {
   "cell_type": "code",
   "execution_count": null,
   "metadata": {},
   "outputs": [],
   "source": [
    "@bash_app\n",
    "def run_ocean_parcels(inputs=[], outputs=[]):\n",
    "    \n",
    "    import os\n",
    "    config = os.path.basename(inputs[0])\n",
    "    launcher = os.path.basename(inputs[1])\n",
    "    out_file = os.path.splitext(os.path.basename(inputs[0]))[0]+'.gif'\n",
    "    out_dir = os.path.basename(outputs[0])\n",
    "    \n",
    "    run_command = \"/bin/bash \" + launcher + \" python \" + config\n",
    "    \n",
    "    return '''\n",
    "        %s\n",
    "        outdir=%s\n",
    "        outfile=%s\n",
    "        mkdir -p $outdir\n",
    "        mv movie.gif $outdir/$outfile\n",
    "    ''' % (run_command,out_dir,out_file)"
   ]
  },
  {
   "cell_type": "code",
   "execution_count": null,
   "metadata": {},
   "outputs": [],
   "source": [
    "configs = [Path('test_ocean_parcels_1.py'),Path('test_ocean_parcels_2.py')]\n",
    "launcher = Path('wrap_docker.sh')\n",
    "out_dir = Path('/pw/storage/PyData_Chicago')\n",
    "\n",
    "app_futures=[]\n",
    "for config in configs:\n",
    "    \n",
    "    future = run_ocean_parcels(inputs=[config,launcher], \n",
    "                          outputs=[out_dir])\n",
    "    \n",
    "    app_futures.append(future)\n",
    "\n",
    "print(\"Running\",len(app_futures),\"OceanParcels executions...\")\n",
    "[f.result() for f in app_futures]"
   ]
  },
  {
   "cell_type": "code",
   "execution_count": null,
   "metadata": {},
   "outputs": [],
   "source": []
  }
 ],
 "metadata": {
  "kernelspec": {
   "display_name": "Python 3",
   "language": "python",
   "name": "python3"
  },
  "language_info": {
   "codemirror_mode": {
    "name": "ipython",
    "version": 3
   },
   "file_extension": ".py",
   "mimetype": "text/x-python",
   "name": "python",
   "nbconvert_exporter": "python",
   "pygments_lexer": "ipython3",
   "version": "3.7.3"
  }
 },
 "nbformat": 4,
 "nbformat_minor": 4
}
